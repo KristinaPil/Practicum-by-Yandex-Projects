{
 "cells": [
  {
   "cell_type": "markdown",
   "metadata": {},
   "source": [
    "# Instructions for completing the project \"Retail: Assess Sales Outlets' Performance\"\n",
    "\n",
    "## Step 1. Open the data file and read the general information\n",
    "- Data on prices of products - \"/datasets/product_codes_us.csv\"\n",
    "- Data on purchases made by customer - \"/datasets/retail_dataset_us.csv\"\n",
    "\n",
    "## Step 2. Data Preprocessing\n",
    "\n",
    "### Rename the columns in the convinient format\n",
    "\n",
    "### Convert the data to the required types\n",
    "- Pay attention at date type format\n",
    "\n",
    "### Identify and study missing values\n",
    "- Correct the data if needed\n",
    "\n",
    "### Check for duplicated data\n",
    "- Drop duplicates from the dataset\n",
    "\n",
    "## Step 3. Carry out exploratory data analysis\n",
    "\n",
    "### Join two datasets in one \n",
    "- In order to analyse the revenue from each customer we have to merge data on purchases made by customer and data on prices of product. We have to combine it on 'item_ID'.\n",
    "\n",
    "### Calculation of main metrics\n",
    "\n",
    "#### Time analysis\n",
    "- What period of time does the data cover?\n",
    "- Calculate min() and max() date.\n",
    "- Plot a histogram by date and time.\n",
    "\n",
    "#### Per customer analysis per group per week\n",
    "- Calculate the number of customers who are in loyality program and who are not. Plot the bar chart.\n",
    "- How many purchases were made per customer?\n",
    "- What is the average quantity of purchases per customer?\n",
    "- Average revenue per customer.\n",
    "- Average revenue per purchase per customer.\n",
    "- Cumulative revenue \n",
    "\n",
    "#### Per shop analysis per group per week\n",
    "- How many stores are there?\n",
    "- Average revenue per store.\n",
    "- The number of purchases per store. \n",
    "- Quantity of purchased items by store.\n",
    "\n",
    "## Step 4. Testing hypothesis\n",
    "\n",
    "### The average revenue from customers of loyality group and not-loyality group differs.\n",
    "\n",
    "### The average purchase size from customers of loyality group and not-loyality group differs.\n",
    "\n",
    "## Step 5. Overall Conclusion\n",
    "\n",
    "## Presentation\n",
    "\n",
    "## Dashboard\n",
    "\n",
    "## Documentation"
   ]
  },
  {
   "cell_type": "code",
   "execution_count": null,
   "metadata": {},
   "outputs": [],
   "source": []
  }
 ],
 "metadata": {
  "ExecuteTimeLog": [
   {
    "duration": 774,
    "start_time": "2021-06-12T10:15:41.188Z"
   },
   {
    "duration": 2163,
    "start_time": "2021-06-12T10:16:42.941Z"
   },
   {
    "duration": 134,
    "start_time": "2021-06-12T10:17:24.532Z"
   },
   {
    "duration": 45,
    "start_time": "2021-06-12T10:17:41.938Z"
   },
   {
    "duration": 45,
    "start_time": "2021-06-12T10:17:49.046Z"
   },
   {
    "duration": 549,
    "start_time": "2021-06-12T10:18:40.309Z"
   },
   {
    "duration": 8,
    "start_time": "2021-06-12T11:22:36.349Z"
   },
   {
    "duration": 33,
    "start_time": "2021-06-12T11:22:51.442Z"
   },
   {
    "duration": 28,
    "start_time": "2021-06-12T11:23:09.616Z"
   },
   {
    "duration": 270,
    "start_time": "2021-06-12T11:24:23.896Z"
   },
   {
    "duration": 294,
    "start_time": "2021-06-12T11:24:30.684Z"
   },
   {
    "duration": 8,
    "start_time": "2021-06-12T11:26:32.503Z"
   },
   {
    "duration": 60,
    "start_time": "2021-06-12T11:26:44.990Z"
   },
   {
    "duration": 8,
    "start_time": "2021-06-12T11:29:48.773Z"
   },
   {
    "duration": 936,
    "start_time": "2021-06-12T16:03:12.544Z"
   },
   {
    "duration": 43,
    "start_time": "2021-06-12T16:03:15.238Z"
   },
   {
    "duration": 215,
    "start_time": "2021-06-12T16:03:16.218Z"
   },
   {
    "duration": 51,
    "start_time": "2021-06-12T16:04:32.959Z"
   },
   {
    "duration": 25,
    "start_time": "2021-06-12T16:04:35.257Z"
   },
   {
    "duration": 5,
    "start_time": "2021-06-12T16:04:53.635Z"
   },
   {
    "duration": 6,
    "start_time": "2021-06-12T16:05:02.996Z"
   },
   {
    "duration": 644,
    "start_time": "2021-06-12T16:19:59.969Z"
   },
   {
    "duration": 622,
    "start_time": "2021-06-12T16:20:19.788Z"
   },
   {
    "duration": 98,
    "start_time": "2021-06-14T05:18:46.335Z"
   }
  ],
  "kernelspec": {
   "display_name": "Python 3",
   "language": "python",
   "name": "python3"
  },
  "language_info": {
   "codemirror_mode": {
    "name": "ipython",
    "version": 3
   },
   "file_extension": ".py",
   "mimetype": "text/x-python",
   "name": "python",
   "nbconvert_exporter": "python",
   "pygments_lexer": "ipython3",
   "version": "3.7.8"
  },
  "toc": {
   "base_numbering": 1,
   "nav_menu": {},
   "number_sections": true,
   "sideBar": true,
   "skip_h1_title": true,
   "title_cell": "Table of Contents",
   "title_sidebar": "Contents",
   "toc_cell": false,
   "toc_position": {},
   "toc_section_display": true,
   "toc_window_display": false
  }
 },
 "nbformat": 4,
 "nbformat_minor": 2
}
